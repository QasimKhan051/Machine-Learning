{
 "cells": [
  {
   "cell_type": "code",
   "execution_count": 83,
   "id": "7d60a810",
   "metadata": {},
   "outputs": [],
   "source": [
    "#************************            Decision_Tree           *************************#\n",
    "\n",
    "#############################______Name: Qasim Khan___________########################################\n",
    "#############################______CMS ID: 49375______________########################################\n",
    "############################_______CEP ML Project_____________########################################\n",
    "\n",
    "\n",
    "\n",
    "import numpy as np\n",
    "import matplotlib.pyplot as plt\n",
    "from public_tests import *\n",
    "from utils import *\n",
    "\n",
    "%matplotlib inline"
   ]
  },
  {
   "cell_type": "code",
   "execution_count": 84,
   "id": "722601dc",
   "metadata": {},
   "outputs": [],
   "source": [
    "X_train = np.array([[1,1,1],[1,0,1],[1,0,0],[1,0,0],[1,1,1],[0,1,1],[0,0,0],[1,0,1],[0,1,0],[1,0,0]])\n",
    "y_train = np.array([1,1,0,0,1,0,0,1,1,0])"
   ]
  },
  {
   "cell_type": "code",
   "execution_count": 85,
   "id": "ec53595a",
   "metadata": {},
   "outputs": [
    {
     "name": "stdout",
     "output_type": "stream",
     "text": [
      "First few elements of X_train:\n",
      " [[1 1 1]\n",
      " [1 0 1]\n",
      " [1 0 0]\n",
      " [1 0 0]\n",
      " [1 1 1]]\n",
      "Type of X_train: <class 'numpy.ndarray'>\n"
     ]
    }
   ],
   "source": [
    "print(\"First few elements of X_train:\\n\", X_train[:5])\n",
    "print(\"Type of X_train:\",type(X_train))"
   ]
  },
  {
   "cell_type": "code",
   "execution_count": 86,
   "id": "098a5b2b",
   "metadata": {},
   "outputs": [
    {
     "name": "stdout",
     "output_type": "stream",
     "text": [
      "First few elements of y_train: [1 1 0 0 1]\n",
      "Type of y_train: <class 'numpy.ndarray'>\n"
     ]
    }
   ],
   "source": [
    "print(\"First few elements of y_train:\", y_train[:5])\n",
    "print(\"Type of y_train:\",type(y_train))"
   ]
  },
  {
   "cell_type": "code",
   "execution_count": 87,
   "id": "ec197555",
   "metadata": {},
   "outputs": [
    {
     "name": "stdout",
     "output_type": "stream",
     "text": [
      "The shape of X_train is: (10, 3)\n",
      "The shape of y_train is:  (10,)\n",
      "Number of training examples (m): 10\n"
     ]
    }
   ],
   "source": [
    "print ('The shape of X_train is:', X_train.shape)\n",
    "print ('The shape of y_train is: ', y_train.shape)\n",
    "print ('Number of training examples (m):', len(X_train))"
   ]
  },
  {
   "cell_type": "code",
   "execution_count": 114,
   "id": "c8e20954",
   "metadata": {},
   "outputs": [],
   "source": [
    "#_________________________________Exercise 1_________________________________________\n",
    "# UNQ_C1\n",
    "# GRADED FUNCTION: compute_entropy\n",
    "def compute_entropy(y):\n",
    "        entropy = 0.\n",
    "        if len(y) != 0:\n",
    "            p1 = len(y[y == 1]) / len(y)\n",
    "            if p1 != 0 and p1 != 1:\n",
    "               entropy = -p1 * np.log2(p1) - (1 - p1) * np.log2(1 - p1)\n",
    "            else:\n",
    "                entropy = 0. \n",
    "        return entropy"
   ]
  },
  {
   "cell_type": "code",
   "execution_count": 102,
   "id": "bc2fed8e",
   "metadata": {},
   "outputs": [
    {
     "name": "stdout",
     "output_type": "stream",
     "text": [
      "Entropy at root node:  1.0\n"
     ]
    }
   ],
   "source": [
    "print(\"Entropy at root node: \", compute_entropy(y_train)) "
   ]
  },
  {
   "cell_type": "code",
   "execution_count": 103,
   "id": "ef463d2f",
   "metadata": {},
   "outputs": [
    {
     "name": "stdout",
     "output_type": "stream",
     "text": [
      "\u001b[92m All tests passed.\n"
     ]
    }
   ],
   "source": [
    "# UNIT TESTS\n",
    "compute_entropy_test(compute_entropy)"
   ]
  },
  {
   "cell_type": "code",
   "execution_count": 106,
   "id": "c75ae978",
   "metadata": {},
   "outputs": [],
   "source": [
    "#_________________________________Exercise 2_________________________________________\n",
    "# UNQ_C2\n",
    "# GRADED FUNCTION: split_dataset\n",
    "\n",
    "def split_dataset(X, node_indices, feature):\n",
    "    \n",
    "        left_indices = []\n",
    "        right_indices = []\n",
    "\n",
    "        for i in node_indices:   \n",
    "            if X[i][feature] == 1:\n",
    "                left_indices.append(i)\n",
    "            else:\n",
    "                right_indices.append(i)\n",
    "        return left_indices, right_indices\n",
    "    \n"
   ]
  },
  {
   "cell_type": "code",
   "execution_count": null,
   "id": "3c37fb2e",
   "metadata": {},
   "outputs": [],
   "source": []
  },
  {
   "cell_type": "code",
   "execution_count": 115,
   "id": "0be32c65",
   "metadata": {},
   "outputs": [
    {
     "name": "stdout",
     "output_type": "stream",
     "text": [
      "Left indices:  [0, 1, 2, 3, 4, 7, 9]\n",
      "Right indices:  [5, 6, 8]\n",
      "\u001b[92m All tests passed.\n"
     ]
    }
   ],
   "source": [
    "root_indices = [0, 1, 2, 3, 4, 5, 6, 7, 8, 9]\n",
    "feature = 0\n",
    "left_indices, right_indices = split_dataset(X_train, root_indices, feature)\n",
    "\n",
    "print(\"Left indices: \", left_indices)\n",
    "print(\"Right indices: \", right_indices)\n",
    "\n",
    "# UNIT TESTS    \n",
    "split_dataset_test(split_dataset)"
   ]
  },
  {
   "cell_type": "code",
   "execution_count": 109,
   "id": "c5bf6499",
   "metadata": {},
   "outputs": [],
   "source": [
    "#_________________________________Exercise 3_________________________________________\n",
    "# UNQ_C3\n",
    "# GRADED FUNCTION: compute_information_gain\n",
    "def compute_information_gain(X, y, node_indices, feature):\n",
    "    left_indices, right_indices = split_dataset(X, node_indices, feature)\n",
    "\n",
    "    X_node, y_node = X[node_indices], y[node_indices]\n",
    "    X_left, y_left = X[left_indices], y[left_indices]\n",
    "    X_right, y_right = X[right_indices], y[right_indices]\n",
    "\n",
    "    information_gain = 0\n",
    "    node_entropy = compute_entropy(y_node)\n",
    "\n",
    "    left_entropy = compute_entropy(y_left)\n",
    "\n",
    "    right_entropy = compute_entropy(y_right)\n",
    "    \n",
    "    w_left = len(X_left) / len(X_node)\n",
    "\n",
    "    w_right = len(X_right) / len(X_node)\n",
    "\n",
    "    weighted_entropy = w_left * left_entropy + w_right * right_entropy\n",
    " \n",
    "    information_gain = node_entropy - weighted_entropy \n",
    "    return information_gain"
   ]
  },
  {
   "cell_type": "code",
   "execution_count": 110,
   "id": "511dc031",
   "metadata": {},
   "outputs": [
    {
     "name": "stdout",
     "output_type": "stream",
     "text": [
      "Information Gain from splitting the root on brown cap:  0.034851554559677034\n",
      "Information Gain from splitting the root on tapering stalk shape:  0.12451124978365313\n",
      "Information Gain from splitting the root on solitary:  0.2780719051126377\n",
      "\u001b[92m All tests passed.\n"
     ]
    }
   ],
   "source": [
    "\n",
    "\n",
    "info_gain0 = compute_information_gain(X_train, y_train, root_indices, feature=0)\n",
    "print(\"Information Gain from splitting the root on brown cap: \", info_gain0)\n",
    "    \n",
    "info_gain1 = compute_information_gain(X_train, y_train, root_indices, feature=1)\n",
    "print(\"Information Gain from splitting the root on tapering stalk shape: \", info_gain1)\n",
    "\n",
    "info_gain2 = compute_information_gain(X_train, y_train, root_indices, feature=2)\n",
    "print(\"Information Gain from splitting the root on solitary: \", info_gain2)\n",
    "\n",
    "# UNIT TESTS\n",
    "compute_information_gain_test(compute_information_gain)\n",
    "\n"
   ]
  },
  {
   "cell_type": "code",
   "execution_count": 111,
   "id": "9e576b96",
   "metadata": {},
   "outputs": [],
   "source": [
    "#_________________________________Exercise 4_________________________________________\n",
    "# UNQ_C4\n",
    "# GRADED FUNCTION: get_best_split\n",
    "def get_best_split(X, y, node_indices):   \n",
    "\n",
    "    # Some useful variables\n",
    "    num_features = X.shape[1]\n",
    "\n",
    "    # You need to return the following variables correctly\n",
    "    best_feature = -1\n",
    "\n",
    "    ### START CODE HERE ###\n",
    "    max_info_gain = 0\n",
    "\n",
    "    # Iterate through all features\n",
    "    for feature in range(num_features): \n",
    "\n",
    "        # Your code here to compute the information gain from splitting on this feature\n",
    "        info_gain = compute_information_gain(X, y, node_indices, feature)\n",
    "\n",
    "        # If the information gain is larger than the max seen so far\n",
    "        if info_gain > max_info_gain:  \n",
    "            # Your code here to set the max_info_gain and best_feature\n",
    "            max_info_gain = info_gain\n",
    "            best_feature = feature\n",
    "    ### END CODE HERE ##    \n",
    " \n",
    "    return best_feature\n"
   ]
  },
  {
   "cell_type": "code",
   "execution_count": 112,
   "id": "a0d91a8b",
   "metadata": {},
   "outputs": [
    {
     "name": "stdout",
     "output_type": "stream",
     "text": [
      "Best feature to split on: 2\n",
      "\u001b[92m All tests passed.\n"
     ]
    }
   ],
   "source": [
    "best_feature = get_best_split(X_train, y_train, root_indices)\n",
    "print(\"Best feature to split on: %d\" % best_feature)\n",
    "\n",
    "# UNIT TESTS\n",
    "get_best_split_test(get_best_split)"
   ]
  },
  {
   "cell_type": "code",
   "execution_count": 113,
   "id": "3041c087",
   "metadata": {},
   "outputs": [],
   "source": [
    "#_________________________________Exercise 5_________________________________________\n",
    "#Not graded\n",
    "#Building the tree\n",
    "\n",
    "def build_tree_recursive(X, y, node_indices, branch_name, max_depth, current_depth):\n",
    "\n",
    "\n",
    "    # Maximum depth reached - stop splitting\n",
    "    if current_depth == max_depth:\n",
    "        formatting = \" \"*current_depth + \"-\"*current_depth\n",
    "        print(formatting, \"%s leaf node with indices\" % branch_name, node_indices)\n",
    "        return\n",
    "   \n",
    "    # Otherwise, get best split and split the data\n",
    "    # Get the best feature and threshold at this node\n",
    "    best_feature = get_best_split(X, y, node_indices) \n",
    "    tree.append((current_depth, branch_name, best_feature, node_indices))\n",
    "    \n",
    "    formatting = \"-\"*current_depth\n",
    "    print(\"%s Depth %d, %s: Split on feature: %d\" % (formatting, current_depth, branch_name, best_feature))\n",
    "    \n",
    "    # Split the dataset at the best feature\n",
    "    left_indices, right_indices = split_dataset(X, node_indices, best_feature)\n",
    "    \n",
    "    # continue splitting the left and the right child. Increment current depth\n",
    "    build_tree_recursive(X, y, left_indices, \"Left\", max_depth, current_depth+1)\n",
    "    build_tree_recursive(X, y, right_indices, \"Right\", max_depth, current_depth+1)"
   ]
  },
  {
   "cell_type": "code",
   "execution_count": 82,
   "id": "97a82b94",
   "metadata": {},
   "outputs": [
    {
     "name": "stdout",
     "output_type": "stream",
     "text": [
      " Depth 0, Root: Split on feature: 2\n",
      "- Depth 1, Left: Split on feature: 0\n",
      "  -- Left leaf node with indices [0, 1, 4, 7]\n",
      "  -- Right leaf node with indices [5]\n",
      "- Depth 1, Right: Split on feature: 1\n",
      "  -- Left leaf node with indices [8]\n",
      "  -- Right leaf node with indices [2, 3, 6, 9]\n"
     ]
    }
   ],
   "source": [
    "build_tree_recursive(X_train, y_train, root_indices, \"Root\", max_depth=2, current_depth=0)"
   ]
  },
  {
   "cell_type": "code",
   "execution_count": null,
   "id": "98dc76eb",
   "metadata": {},
   "outputs": [],
   "source": []
  }
 ],
 "metadata": {
  "kernelspec": {
   "display_name": "Python 3 (ipykernel)",
   "language": "python",
   "name": "python3"
  },
  "language_info": {
   "codemirror_mode": {
    "name": "ipython",
    "version": 3
   },
   "file_extension": ".py",
   "mimetype": "text/x-python",
   "name": "python",
   "nbconvert_exporter": "python",
   "pygments_lexer": "ipython3",
   "version": "3.9.13"
  }
 },
 "nbformat": 4,
 "nbformat_minor": 5
}
